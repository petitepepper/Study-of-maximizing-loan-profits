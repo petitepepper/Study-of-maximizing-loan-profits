{
 "cells": [
  {
   "cell_type": "markdown",
   "metadata": {},
   "source": [
    "# 1. Cleaning & Feature Selection"
   ]
  },
  {
   "cell_type": "code",
   "execution_count": 1,
   "metadata": {},
   "outputs": [
    {
     "name": "stderr",
     "output_type": "stream",
     "text": [
      "C:\\Users\\meiji\\AppData\\Roaming\\Python\\Python37\\site-packages\\IPython\\core\\interactiveshell.py:3146: DtypeWarning: Columns (0,47) have mixed types.Specify dtype option on import or set low_memory=False.\n",
      "  interactivity=interactivity, compiler=compiler, result=result)\n"
     ]
    },
    {
     "data": {
      "text/html": [
       "<div>\n",
       "<style scoped>\n",
       "    .dataframe tbody tr th:only-of-type {\n",
       "        vertical-align: middle;\n",
       "    }\n",
       "\n",
       "    .dataframe tbody tr th {\n",
       "        vertical-align: top;\n",
       "    }\n",
       "\n",
       "    .dataframe thead th {\n",
       "        text-align: right;\n",
       "    }\n",
       "</style>\n",
       "<table border=\"1\" class=\"dataframe\">\n",
       "  <thead>\n",
       "    <tr style=\"text-align: right;\">\n",
       "      <th></th>\n",
       "      <th>id</th>\n",
       "      <th>member_id</th>\n",
       "      <th>loan_amnt</th>\n",
       "      <th>funded_amnt</th>\n",
       "      <th>funded_amnt_inv</th>\n",
       "      <th>term</th>\n",
       "      <th>int_rate</th>\n",
       "      <th>installment</th>\n",
       "      <th>grade</th>\n",
       "      <th>sub_grade</th>\n",
       "      <th>...</th>\n",
       "      <th>num_tl_90g_dpd_24m</th>\n",
       "      <th>num_tl_op_past_12m</th>\n",
       "      <th>pct_tl_nvr_dlq</th>\n",
       "      <th>percent_bc_gt_75</th>\n",
       "      <th>pub_rec_bankruptcies</th>\n",
       "      <th>tax_liens</th>\n",
       "      <th>tot_hi_cred_lim</th>\n",
       "      <th>total_bal_ex_mort</th>\n",
       "      <th>total_bc_limit</th>\n",
       "      <th>total_il_high_credit_limit</th>\n",
       "    </tr>\n",
       "  </thead>\n",
       "  <tbody>\n",
       "    <tr>\n",
       "      <th>0</th>\n",
       "      <td>1077501</td>\n",
       "      <td>1296599.0</td>\n",
       "      <td>5000.0</td>\n",
       "      <td>5000.0</td>\n",
       "      <td>4975.0</td>\n",
       "      <td>36 months</td>\n",
       "      <td>10.65%</td>\n",
       "      <td>162.87</td>\n",
       "      <td>B</td>\n",
       "      <td>B2</td>\n",
       "      <td>...</td>\n",
       "      <td>NaN</td>\n",
       "      <td>NaN</td>\n",
       "      <td>NaN</td>\n",
       "      <td>NaN</td>\n",
       "      <td>0.0</td>\n",
       "      <td>0.0</td>\n",
       "      <td>NaN</td>\n",
       "      <td>NaN</td>\n",
       "      <td>NaN</td>\n",
       "      <td>NaN</td>\n",
       "    </tr>\n",
       "    <tr>\n",
       "      <th>1</th>\n",
       "      <td>1077430</td>\n",
       "      <td>1314167.0</td>\n",
       "      <td>2500.0</td>\n",
       "      <td>2500.0</td>\n",
       "      <td>2500.0</td>\n",
       "      <td>60 months</td>\n",
       "      <td>15.27%</td>\n",
       "      <td>59.83</td>\n",
       "      <td>C</td>\n",
       "      <td>C4</td>\n",
       "      <td>...</td>\n",
       "      <td>NaN</td>\n",
       "      <td>NaN</td>\n",
       "      <td>NaN</td>\n",
       "      <td>NaN</td>\n",
       "      <td>0.0</td>\n",
       "      <td>0.0</td>\n",
       "      <td>NaN</td>\n",
       "      <td>NaN</td>\n",
       "      <td>NaN</td>\n",
       "      <td>NaN</td>\n",
       "    </tr>\n",
       "    <tr>\n",
       "      <th>2</th>\n",
       "      <td>1077175</td>\n",
       "      <td>1313524.0</td>\n",
       "      <td>2400.0</td>\n",
       "      <td>2400.0</td>\n",
       "      <td>2400.0</td>\n",
       "      <td>36 months</td>\n",
       "      <td>15.96%</td>\n",
       "      <td>84.33</td>\n",
       "      <td>C</td>\n",
       "      <td>C5</td>\n",
       "      <td>...</td>\n",
       "      <td>NaN</td>\n",
       "      <td>NaN</td>\n",
       "      <td>NaN</td>\n",
       "      <td>NaN</td>\n",
       "      <td>0.0</td>\n",
       "      <td>0.0</td>\n",
       "      <td>NaN</td>\n",
       "      <td>NaN</td>\n",
       "      <td>NaN</td>\n",
       "      <td>NaN</td>\n",
       "    </tr>\n",
       "    <tr>\n",
       "      <th>3</th>\n",
       "      <td>1076863</td>\n",
       "      <td>1277178.0</td>\n",
       "      <td>10000.0</td>\n",
       "      <td>10000.0</td>\n",
       "      <td>10000.0</td>\n",
       "      <td>36 months</td>\n",
       "      <td>13.49%</td>\n",
       "      <td>339.31</td>\n",
       "      <td>C</td>\n",
       "      <td>C1</td>\n",
       "      <td>...</td>\n",
       "      <td>NaN</td>\n",
       "      <td>NaN</td>\n",
       "      <td>NaN</td>\n",
       "      <td>NaN</td>\n",
       "      <td>0.0</td>\n",
       "      <td>0.0</td>\n",
       "      <td>NaN</td>\n",
       "      <td>NaN</td>\n",
       "      <td>NaN</td>\n",
       "      <td>NaN</td>\n",
       "    </tr>\n",
       "    <tr>\n",
       "      <th>4</th>\n",
       "      <td>1075358</td>\n",
       "      <td>1311748.0</td>\n",
       "      <td>3000.0</td>\n",
       "      <td>3000.0</td>\n",
       "      <td>3000.0</td>\n",
       "      <td>60 months</td>\n",
       "      <td>12.69%</td>\n",
       "      <td>67.79</td>\n",
       "      <td>B</td>\n",
       "      <td>B5</td>\n",
       "      <td>...</td>\n",
       "      <td>NaN</td>\n",
       "      <td>NaN</td>\n",
       "      <td>NaN</td>\n",
       "      <td>NaN</td>\n",
       "      <td>0.0</td>\n",
       "      <td>0.0</td>\n",
       "      <td>NaN</td>\n",
       "      <td>NaN</td>\n",
       "      <td>NaN</td>\n",
       "      <td>NaN</td>\n",
       "    </tr>\n",
       "    <tr>\n",
       "      <th>5</th>\n",
       "      <td>1075269</td>\n",
       "      <td>1311441.0</td>\n",
       "      <td>5000.0</td>\n",
       "      <td>5000.0</td>\n",
       "      <td>5000.0</td>\n",
       "      <td>36 months</td>\n",
       "      <td>7.90%</td>\n",
       "      <td>156.46</td>\n",
       "      <td>A</td>\n",
       "      <td>A4</td>\n",
       "      <td>...</td>\n",
       "      <td>NaN</td>\n",
       "      <td>NaN</td>\n",
       "      <td>NaN</td>\n",
       "      <td>NaN</td>\n",
       "      <td>0.0</td>\n",
       "      <td>0.0</td>\n",
       "      <td>NaN</td>\n",
       "      <td>NaN</td>\n",
       "      <td>NaN</td>\n",
       "      <td>NaN</td>\n",
       "    </tr>\n",
       "    <tr>\n",
       "      <th>6</th>\n",
       "      <td>1069639</td>\n",
       "      <td>1304742.0</td>\n",
       "      <td>7000.0</td>\n",
       "      <td>7000.0</td>\n",
       "      <td>7000.0</td>\n",
       "      <td>60 months</td>\n",
       "      <td>15.96%</td>\n",
       "      <td>170.08</td>\n",
       "      <td>C</td>\n",
       "      <td>C5</td>\n",
       "      <td>...</td>\n",
       "      <td>NaN</td>\n",
       "      <td>NaN</td>\n",
       "      <td>NaN</td>\n",
       "      <td>NaN</td>\n",
       "      <td>0.0</td>\n",
       "      <td>0.0</td>\n",
       "      <td>NaN</td>\n",
       "      <td>NaN</td>\n",
       "      <td>NaN</td>\n",
       "      <td>NaN</td>\n",
       "    </tr>\n",
       "    <tr>\n",
       "      <th>7</th>\n",
       "      <td>1072053</td>\n",
       "      <td>1288686.0</td>\n",
       "      <td>3000.0</td>\n",
       "      <td>3000.0</td>\n",
       "      <td>3000.0</td>\n",
       "      <td>36 months</td>\n",
       "      <td>18.64%</td>\n",
       "      <td>109.43</td>\n",
       "      <td>E</td>\n",
       "      <td>E1</td>\n",
       "      <td>...</td>\n",
       "      <td>NaN</td>\n",
       "      <td>NaN</td>\n",
       "      <td>NaN</td>\n",
       "      <td>NaN</td>\n",
       "      <td>0.0</td>\n",
       "      <td>0.0</td>\n",
       "      <td>NaN</td>\n",
       "      <td>NaN</td>\n",
       "      <td>NaN</td>\n",
       "      <td>NaN</td>\n",
       "    </tr>\n",
       "    <tr>\n",
       "      <th>8</th>\n",
       "      <td>1071795</td>\n",
       "      <td>1306957.0</td>\n",
       "      <td>5600.0</td>\n",
       "      <td>5600.0</td>\n",
       "      <td>5600.0</td>\n",
       "      <td>60 months</td>\n",
       "      <td>21.28%</td>\n",
       "      <td>152.39</td>\n",
       "      <td>F</td>\n",
       "      <td>F2</td>\n",
       "      <td>...</td>\n",
       "      <td>NaN</td>\n",
       "      <td>NaN</td>\n",
       "      <td>NaN</td>\n",
       "      <td>NaN</td>\n",
       "      <td>0.0</td>\n",
       "      <td>0.0</td>\n",
       "      <td>NaN</td>\n",
       "      <td>NaN</td>\n",
       "      <td>NaN</td>\n",
       "      <td>NaN</td>\n",
       "    </tr>\n",
       "    <tr>\n",
       "      <th>9</th>\n",
       "      <td>1071570</td>\n",
       "      <td>1306721.0</td>\n",
       "      <td>5375.0</td>\n",
       "      <td>5375.0</td>\n",
       "      <td>5350.0</td>\n",
       "      <td>60 months</td>\n",
       "      <td>12.69%</td>\n",
       "      <td>121.45</td>\n",
       "      <td>B</td>\n",
       "      <td>B5</td>\n",
       "      <td>...</td>\n",
       "      <td>NaN</td>\n",
       "      <td>NaN</td>\n",
       "      <td>NaN</td>\n",
       "      <td>NaN</td>\n",
       "      <td>0.0</td>\n",
       "      <td>0.0</td>\n",
       "      <td>NaN</td>\n",
       "      <td>NaN</td>\n",
       "      <td>NaN</td>\n",
       "      <td>NaN</td>\n",
       "    </tr>\n",
       "  </tbody>\n",
       "</table>\n",
       "<p>10 rows × 111 columns</p>\n",
       "</div>"
      ],
      "text/plain": [
       "        id  member_id  loan_amnt  funded_amnt  funded_amnt_inv        term  \\\n",
       "0  1077501  1296599.0     5000.0       5000.0           4975.0   36 months   \n",
       "1  1077430  1314167.0     2500.0       2500.0           2500.0   60 months   \n",
       "2  1077175  1313524.0     2400.0       2400.0           2400.0   36 months   \n",
       "3  1076863  1277178.0    10000.0      10000.0          10000.0   36 months   \n",
       "4  1075358  1311748.0     3000.0       3000.0           3000.0   60 months   \n",
       "5  1075269  1311441.0     5000.0       5000.0           5000.0   36 months   \n",
       "6  1069639  1304742.0     7000.0       7000.0           7000.0   60 months   \n",
       "7  1072053  1288686.0     3000.0       3000.0           3000.0   36 months   \n",
       "8  1071795  1306957.0     5600.0       5600.0           5600.0   60 months   \n",
       "9  1071570  1306721.0     5375.0       5375.0           5350.0   60 months   \n",
       "\n",
       "  int_rate  installment grade sub_grade  ... num_tl_90g_dpd_24m  \\\n",
       "0   10.65%       162.87     B        B2  ...                NaN   \n",
       "1   15.27%        59.83     C        C4  ...                NaN   \n",
       "2   15.96%        84.33     C        C5  ...                NaN   \n",
       "3   13.49%       339.31     C        C1  ...                NaN   \n",
       "4   12.69%        67.79     B        B5  ...                NaN   \n",
       "5    7.90%       156.46     A        A4  ...                NaN   \n",
       "6   15.96%       170.08     C        C5  ...                NaN   \n",
       "7   18.64%       109.43     E        E1  ...                NaN   \n",
       "8   21.28%       152.39     F        F2  ...                NaN   \n",
       "9   12.69%       121.45     B        B5  ...                NaN   \n",
       "\n",
       "  num_tl_op_past_12m pct_tl_nvr_dlq  percent_bc_gt_75 pub_rec_bankruptcies  \\\n",
       "0                NaN            NaN               NaN                  0.0   \n",
       "1                NaN            NaN               NaN                  0.0   \n",
       "2                NaN            NaN               NaN                  0.0   \n",
       "3                NaN            NaN               NaN                  0.0   \n",
       "4                NaN            NaN               NaN                  0.0   \n",
       "5                NaN            NaN               NaN                  0.0   \n",
       "6                NaN            NaN               NaN                  0.0   \n",
       "7                NaN            NaN               NaN                  0.0   \n",
       "8                NaN            NaN               NaN                  0.0   \n",
       "9                NaN            NaN               NaN                  0.0   \n",
       "\n",
       "  tax_liens tot_hi_cred_lim total_bal_ex_mort total_bc_limit  \\\n",
       "0       0.0             NaN               NaN            NaN   \n",
       "1       0.0             NaN               NaN            NaN   \n",
       "2       0.0             NaN               NaN            NaN   \n",
       "3       0.0             NaN               NaN            NaN   \n",
       "4       0.0             NaN               NaN            NaN   \n",
       "5       0.0             NaN               NaN            NaN   \n",
       "6       0.0             NaN               NaN            NaN   \n",
       "7       0.0             NaN               NaN            NaN   \n",
       "8       0.0             NaN               NaN            NaN   \n",
       "9       0.0             NaN               NaN            NaN   \n",
       "\n",
       "  total_il_high_credit_limit  \n",
       "0                        NaN  \n",
       "1                        NaN  \n",
       "2                        NaN  \n",
       "3                        NaN  \n",
       "4                        NaN  \n",
       "5                        NaN  \n",
       "6                        NaN  \n",
       "7                        NaN  \n",
       "8                        NaN  \n",
       "9                        NaN  \n",
       "\n",
       "[10 rows x 111 columns]"
      ]
     },
     "execution_count": 1,
     "metadata": {},
     "output_type": "execute_result"
    }
   ],
   "source": [
    "import pandas as pd \n",
    "\n",
    "loan = pd.read_csv(\"LoanStats3a.csv\",skiprows=1)\n",
    "loan.head(10)"
   ]
  },
  {
   "cell_type": "markdown",
   "metadata": {},
   "source": [
    "**Delete features with too many n/a values**"
   ]
  },
  {
   "cell_type": "code",
   "execution_count": 2,
   "metadata": {},
   "outputs": [
    {
     "name": "stdout",
     "output_type": "stream",
     "text": [
      "Index(['id', 'member_id', 'loan_amnt', 'funded_amnt', 'funded_amnt_inv',\n",
      "       'term', 'int_rate', 'installment', 'grade', 'sub_grade', 'emp_title',\n",
      "       'emp_length', 'home_ownership', 'annual_inc', 'verification_status',\n",
      "       'issue_d', 'loan_status', 'pymnt_plan', 'url', 'desc', 'purpose',\n",
      "       'title', 'zip_code', 'addr_state', 'dti', 'delinq_2yrs',\n",
      "       'earliest_cr_line', 'inq_last_6mths', 'open_acc', 'pub_rec',\n",
      "       'revol_bal', 'revol_util', 'total_acc', 'initial_list_status',\n",
      "       'out_prncp', 'out_prncp_inv', 'total_pymnt', 'total_pymnt_inv',\n",
      "       'total_rec_prncp', 'total_rec_int', 'total_rec_late_fee', 'recoveries',\n",
      "       'collection_recovery_fee', 'last_pymnt_d', 'last_pymnt_amnt',\n",
      "       'last_credit_pull_d', 'collections_12_mths_ex_med', 'policy_code',\n",
      "       'application_type', 'acc_now_delinq', 'chargeoff_within_12_mths',\n",
      "       'delinq_amnt', 'pub_rec_bankruptcies', 'tax_liens'],\n",
      "      dtype='object')\n"
     ]
    }
   ],
   "source": [
    "half_count = len(loan)/2\n",
    "loan = loan.dropna(thresh=half_count,axis=1)\n",
    "print(loan.columns) #len = 54"
   ]
  },
  {
   "cell_type": "markdown",
   "metadata": {},
   "source": [
    "**Delete features that not logically related**"
   ]
  },
  {
   "cell_type": "code",
   "execution_count": 3,
   "metadata": {},
   "outputs": [
    {
     "name": "stdout",
     "output_type": "stream",
     "text": [
      "31\n"
     ]
    }
   ],
   "source": [
    "unrelated_cols = ['id','member_id','funded_amnt','funded_amnt_inv',\"desc\",\n",
    "                \"grade\",'sub_grade',\"issue_d\",\"zip_code\", \"out_prncp\", \n",
    "                \"out_prncp_inv\", \"total_pymnt\", \"total_pymnt_inv\", \"url\",\n",
    "                \"total_rec_prncp\",\"total_rec_int\", \"total_rec_late_fee\", \n",
    "                \"recoveries\", \"collection_recovery_fee\", \"last_pymnt_d\",\n",
    "                \"addr_state\",\"earliest_cr_line\",\"last_credit_pull_d\"]\n",
    "loan = loan.drop(unrelated_cols,axis=1)\n",
    "print(len(loan.columns))"
   ]
  },
  {
   "cell_type": "markdown",
   "metadata": {},
   "source": [
    "**Delete features that have only one value**"
   ]
  },
  {
   "cell_type": "code",
   "execution_count": 4,
   "metadata": {},
   "outputs": [
    {
     "name": "stdout",
     "output_type": "stream",
     "text": [
      "26\n"
     ]
    }
   ],
   "source": [
    "cols = loan.columns\n",
    "cols_to_drop =[]\n",
    "for col in cols:\n",
    "    if len(loan[col].dropna().unique())==1:\n",
    "        cols_to_drop.append(col)\n",
    "loan = loan.drop(cols_to_drop,axis=1)\n",
    "print(len(loan.columns))"
   ]
  },
  {
   "cell_type": "markdown",
   "metadata": {},
   "source": [
    "**Check data type**"
   ]
  },
  {
   "cell_type": "code",
   "execution_count": 5,
   "metadata": {},
   "outputs": [
    {
     "name": "stdout",
     "output_type": "stream",
     "text": [
      "float64    15\n",
      "object     11\n",
      "dtype: int64\n"
     ]
    }
   ],
   "source": [
    "print(loan.dtypes.value_counts())"
   ]
  },
  {
   "cell_type": "code",
   "execution_count": 6,
   "metadata": {},
   "outputs": [
    {
     "name": "stdout",
     "output_type": "stream",
     "text": [
      "term                     36 months\n",
      "int_rate                    10.65%\n",
      "emp_title                      NaN\n",
      "emp_length               10+ years\n",
      "home_ownership                RENT\n",
      "verification_status       Verified\n",
      "loan_status             Fully Paid\n",
      "pymnt_plan                       n\n",
      "purpose                credit_card\n",
      "title                     Computer\n",
      "revol_util                   83.7%\n",
      "Name: 0, dtype: object\n"
     ]
    }
   ],
   "source": [
    "# Check object-type variables\n",
    "obj_cols = loan.select_dtypes(include=[\"object\"])\n",
    "print(obj_cols.iloc[0])"
   ]
  },
  {
   "cell_type": "code",
   "execution_count": 7,
   "metadata": {},
   "outputs": [
    {
     "name": "stdout",
     "output_type": "stream",
     "text": [
      "debt_consolidation    19776\n",
      "credit_card            5477\n",
      "other                  4425\n",
      "home_improvement       3199\n",
      "major_purchase         2311\n",
      "small_business         1992\n",
      "car                    1615\n",
      "wedding                1004\n",
      "medical                 753\n",
      "moving                  629\n",
      "house                   426\n",
      "educational             422\n",
      "vacation                400\n",
      "renewable_energy        106\n",
      "Name: purpose, dtype: int64 \n",
      "\n",
      "Debt Consolidation               2259\n",
      "Debt Consolidation Loan          1760\n",
      "Personal Loan                     708\n",
      "Consolidation                     547\n",
      "debt consolidation                532\n",
      "                                 ... \n",
      "allison                             1\n",
      "x1                                  1\n",
      "crazy credit cards                  1\n",
      "bank of america consolidation       1\n",
      "Major Purchase Loan 1               1\n",
      "Name: title, Length: 21264, dtype: int64\n"
     ]
    }
   ],
   "source": [
    "# Check two varibales that seem to have the same utility\n",
    "print(loan['purpose'].value_counts(),\"\\n\")\n",
    "print(loan['title'].value_counts())\n",
    "\n",
    "# Drop one of them\n",
    "loan = loan.drop('title',axis=1)"
   ]
  },
  {
   "cell_type": "code",
   "execution_count": 8,
   "metadata": {},
   "outputs": [],
   "source": [
    "# Drop 'emp_title', which is the name of borrower's company (To difficult to use at this stage)\n",
    "loan = loan.drop('emp_title',axis=1)"
   ]
  },
  {
   "cell_type": "code",
   "execution_count": 9,
   "metadata": {},
   "outputs": [
    {
     "name": "stdout",
     "output_type": "stream",
     "text": [
      "Fully Paid                                             33902\n",
      "Charged Off                                             5658\n",
      "Does not meet the credit policy. Status:Fully Paid      1988\n",
      "Does not meet the credit policy. Status:Charged Off      761\n",
      "Current                                                  201\n",
      "Late (31-120 days)                                        10\n",
      "In Grace Period                                            9\n",
      "Late (16-30 days)                                          5\n",
      "Default                                                    1\n",
      "Name: loan_status, dtype: int64 \n",
      "\n",
      "10+ years    9369\n",
      "< 1 year     5062\n",
      "2 years      4743\n",
      "3 years      4364\n",
      "4 years      3649\n",
      "1 year       3595\n",
      "5 years      3458\n",
      "6 years      2375\n",
      "7 years      1875\n",
      "8 years      1592\n",
      "9 years      1341\n",
      "Name: emp_length, dtype: int64 \n",
      "\n",
      "n    42534\n",
      "y        1\n",
      "Name: pymnt_plan, dtype: int64 \n",
      "\n",
      "----------------------------------------\n",
      " 36 months    31534\n",
      " 60 months    11001\n",
      "Name: term, dtype: int64 \n",
      "\n",
      "RENT        20181\n",
      "MORTGAGE    18959\n",
      "OWN          3251\n",
      "OTHER         136\n",
      "NONE            8\n",
      "Name: home_ownership, dtype: int64 \n",
      "\n",
      "Not Verified       18758\n",
      "Verified           13471\n",
      "Source Verified    10306\n",
      "Name: verification_status, dtype: int64 \n",
      "\n",
      "debt_consolidation    19776\n",
      "credit_card            5477\n",
      "other                  4425\n",
      "home_improvement       3199\n",
      "major_purchase         2311\n",
      "small_business         1992\n",
      "car                    1615\n",
      "wedding                1004\n",
      "medical                 753\n",
      "moving                  629\n",
      "house                   426\n",
      "educational             422\n",
      "vacation                400\n",
      "renewable_energy        106\n",
      "Name: purpose, dtype: int64 \n",
      "\n"
     ]
    }
   ],
   "source": [
    "# Check other variables\n",
    "\n",
    "# These string variables can be changed to \"int\" \n",
    "print(loan['loan_status'].value_counts(),\"\\n\")\n",
    "print(loan['emp_length'].value_counts(),\"\\n\")\n",
    "print(loan['pymnt_plan'].value_counts(),\"\\n\")\n",
    "\n",
    "print(\"--\"*20)\n",
    "# For these variables, a get_dummies method may a be better choice\n",
    "print(loan['term'].value_counts(),\"\\n\")\n",
    "print(loan['home_ownership'].value_counts(),\"\\n\")\n",
    "print(loan['verification_status'].value_counts(),\"\\n\")\n",
    "print(loan['purpose'].value_counts(),\"\\n\")"
   ]
  },
  {
   "cell_type": "markdown",
   "metadata": {},
   "source": [
    "**Change str \"xx%\" -> int**"
   ]
  },
  {
   "cell_type": "code",
   "execution_count": 10,
   "metadata": {},
   "outputs": [],
   "source": [
    "loan[\"int_rate\"] = loan[\"int_rate\"].str.rstrip(\"%\").astype(\"float\")\n",
    "loan[\"revol_util\"] = loan[\"revol_util\"].str.rstrip(\"%\").astype(\"float\")"
   ]
  },
  {
   "cell_type": "markdown",
   "metadata": {},
   "source": [
    "**Transform some variables from \"str\" to \"int\"**"
   ]
  },
  {
   "cell_type": "code",
   "execution_count": 11,
   "metadata": {},
   "outputs": [],
   "source": [
    "#print(loan[\"loan_status\"].value_counts())\n",
    "\n",
    "# We only keep these 2 status, since the others are quite similar and not easy to disctinguish for non-professionals \n",
    "loan = loan[(loan[\"loan_status\"] == \"Fully Paid\") \n",
    "        | (loan[\"loan_status\"] == \"Charged Off\")]\n",
    "\n",
    "loan_status_mapping = {\n",
    "    \"loan_status\":{\n",
    "        \"Fully Paid\":1,\n",
    "        \"Charged Off\":0\n",
    "    }\n",
    "}\n",
    "loan = loan.replace(loan_status_mapping)\n",
    "\n",
    "\n",
    "#print(loan[\"emp_length\"].value_counts())\n",
    "#print(loan[\"pymnt_plan\"].value_counts())\n",
    "mapping_str2int = {\n",
    "    \"emp_length\":{\n",
    "        \"10+ years\": 10,\n",
    "        \"9 years\": 9,\n",
    "        \"8 years\": 8,\n",
    "        \"7 years\": 7,\n",
    "        \"6 years\": 6,\n",
    "        \"5 years\": 5,\n",
    "        \"4 years\": 4,\n",
    "        \"3 years\": 3,\n",
    "        \"2 years\": 2,\n",
    "        \"1 year\": 1,\n",
    "        \"< 1 year\": 0,\n",
    "        \"n/a\": 0\n",
    "    },\n",
    "    \"pymnt_plan\":{\n",
    "        \"n\":0,\n",
    "        \"y\":1\n",
    "    }\n",
    "}\n",
    "loan = loan.replace(mapping_str2int)"
   ]
  },
  {
   "cell_type": "markdown",
   "metadata": {},
   "source": [
    "**Get dummies**"
   ]
  },
  {
   "cell_type": "code",
   "execution_count": 12,
   "metadata": {},
   "outputs": [],
   "source": [
    "dummy_cols = [\"term\",\"home_ownership\",\"verification_status\",\"purpose\"]\n",
    "dummy_df = pd.get_dummies(loan[dummy_cols])\n",
    "loan = pd.concat([loan,dummy_df],axis=1)\n",
    "loan = loan.drop(dummy_cols,axis=1)"
   ]
  },
  {
   "cell_type": "markdown",
   "metadata": {},
   "source": [
    "**Drop null samples** (for later modeling)"
   ]
  },
  {
   "cell_type": "code",
   "execution_count": 13,
   "metadata": {},
   "outputs": [
    {
     "name": "stdout",
     "output_type": "stream",
     "text": [
      "loan_amnt                                 0\n",
      "int_rate                                  0\n",
      "installment                               0\n",
      "emp_length                             1073\n",
      "annual_inc                                0\n",
      "loan_status                               0\n",
      "pymnt_plan                                0\n",
      "dti                                       0\n",
      "delinq_2yrs                               0\n",
      "inq_last_6mths                            0\n",
      "open_acc                                  0\n",
      "pub_rec                                   0\n",
      "revol_bal                                 0\n",
      "revol_util                               50\n",
      "total_acc                                 0\n",
      "last_pymnt_amnt                           0\n",
      "acc_now_delinq                            0\n",
      "delinq_amnt                               0\n",
      "pub_rec_bankruptcies                    697\n",
      "tax_liens                                39\n",
      "term_ 36 months                           0\n",
      "term_ 60 months                           0\n",
      "home_ownership_MORTGAGE                   0\n",
      "home_ownership_NONE                       0\n",
      "home_ownership_OTHER                      0\n",
      "home_ownership_OWN                        0\n",
      "home_ownership_RENT                       0\n",
      "verification_status_Not Verified          0\n",
      "verification_status_Source Verified       0\n",
      "verification_status_Verified              0\n",
      "purpose_car                               0\n",
      "purpose_credit_card                       0\n",
      "purpose_debt_consolidation                0\n",
      "purpose_educational                       0\n",
      "purpose_home_improvement                  0\n",
      "purpose_house                             0\n",
      "purpose_major_purchase                    0\n",
      "purpose_medical                           0\n",
      "purpose_moving                            0\n",
      "purpose_other                             0\n",
      "purpose_renewable_energy                  0\n",
      "purpose_small_business                    0\n",
      "purpose_vacation                          0\n",
      "purpose_wedding                           0\n",
      "dtype: int64\n"
     ]
    }
   ],
   "source": [
    "print(loan.isnull().sum())\n",
    "loan = loan.dropna()"
   ]
  },
  {
   "cell_type": "markdown",
   "metadata": {},
   "source": [
    "**Save cleaned dataset**"
   ]
  },
  {
   "cell_type": "code",
   "execution_count": 14,
   "metadata": {},
   "outputs": [
    {
     "name": "stdout",
     "output_type": "stream",
     "text": [
      "<class 'pandas.core.frame.DataFrame'>\n",
      "Int64Index: 37743 entries, 0 to 39749\n",
      "Data columns (total 44 columns):\n",
      " #   Column                               Non-Null Count  Dtype  \n",
      "---  ------                               --------------  -----  \n",
      " 0   loan_amnt                            37743 non-null  float64\n",
      " 1   int_rate                             37743 non-null  float64\n",
      " 2   installment                          37743 non-null  float64\n",
      " 3   emp_length                           37743 non-null  float64\n",
      " 4   annual_inc                           37743 non-null  float64\n",
      " 5   loan_status                          37743 non-null  int64  \n",
      " 6   pymnt_plan                           37743 non-null  int64  \n",
      " 7   dti                                  37743 non-null  float64\n",
      " 8   delinq_2yrs                          37743 non-null  float64\n",
      " 9   inq_last_6mths                       37743 non-null  float64\n",
      " 10  open_acc                             37743 non-null  float64\n",
      " 11  pub_rec                              37743 non-null  float64\n",
      " 12  revol_bal                            37743 non-null  float64\n",
      " 13  revol_util                           37743 non-null  float64\n",
      " 14  total_acc                            37743 non-null  float64\n",
      " 15  last_pymnt_amnt                      37743 non-null  float64\n",
      " 16  acc_now_delinq                       37743 non-null  float64\n",
      " 17  delinq_amnt                          37743 non-null  float64\n",
      " 18  pub_rec_bankruptcies                 37743 non-null  float64\n",
      " 19  tax_liens                            37743 non-null  float64\n",
      " 20  term_ 36 months                      37743 non-null  uint8  \n",
      " 21  term_ 60 months                      37743 non-null  uint8  \n",
      " 22  home_ownership_MORTGAGE              37743 non-null  uint8  \n",
      " 23  home_ownership_NONE                  37743 non-null  uint8  \n",
      " 24  home_ownership_OTHER                 37743 non-null  uint8  \n",
      " 25  home_ownership_OWN                   37743 non-null  uint8  \n",
      " 26  home_ownership_RENT                  37743 non-null  uint8  \n",
      " 27  verification_status_Not Verified     37743 non-null  uint8  \n",
      " 28  verification_status_Source Verified  37743 non-null  uint8  \n",
      " 29  verification_status_Verified         37743 non-null  uint8  \n",
      " 30  purpose_car                          37743 non-null  uint8  \n",
      " 31  purpose_credit_card                  37743 non-null  uint8  \n",
      " 32  purpose_debt_consolidation           37743 non-null  uint8  \n",
      " 33  purpose_educational                  37743 non-null  uint8  \n",
      " 34  purpose_home_improvement             37743 non-null  uint8  \n",
      " 35  purpose_house                        37743 non-null  uint8  \n",
      " 36  purpose_major_purchase               37743 non-null  uint8  \n",
      " 37  purpose_medical                      37743 non-null  uint8  \n",
      " 38  purpose_moving                       37743 non-null  uint8  \n",
      " 39  purpose_other                        37743 non-null  uint8  \n",
      " 40  purpose_renewable_energy             37743 non-null  uint8  \n",
      " 41  purpose_small_business               37743 non-null  uint8  \n",
      " 42  purpose_vacation                     37743 non-null  uint8  \n",
      " 43  purpose_wedding                      37743 non-null  uint8  \n",
      "dtypes: float64(18), int64(2), uint8(24)\n",
      "memory usage: 6.9 MB\n",
      "None\n"
     ]
    }
   ],
   "source": [
    "loan.to_csv(\"cleaned_loans.csv\",index=False)\n",
    "print(loan.info())"
   ]
  },
  {
   "cell_type": "markdown",
   "metadata": {},
   "source": [
    "# 2. Modeling"
   ]
  },
  {
   "cell_type": "code",
   "execution_count": 15,
   "metadata": {},
   "outputs": [],
   "source": [
    "from sklearn.model_selection import train_test_split,cross_val_predict,KFold\n",
    "from sklearn.linear_model import LogisticRegression\n",
    "from sklearn.ensemble import RandomForestClassifier\n",
    "from imblearn.over_sampling import SMOTE\n",
    "#import pandas as pd\n",
    "#loan = pd.read_csv(\"cleaned_loans.csv\")\n",
    "\n",
    "X = loan.drop('loan_status',axis=1)\n",
    "y = loan['loan_status']\n",
    "\n",
    "X_train, X_test, y_train, y_test = train_test_split(X,y,random_state=1)"
   ]
  },
  {
   "cell_type": "code",
   "execution_count": 16,
   "metadata": {},
   "outputs": [],
   "source": [
    "def TPR_FPR(prediction,y_test):\n",
    "    # Calculate True_Positive_Rate & False_Positive_Rate\n",
    "    TP_filter = (prediction==1)&(y_test==1)\n",
    "    FP_filter = (prediction==1)&(y_test==0)\n",
    "    TN_filter = (prediction==0)&(y_test==0)\n",
    "    FN_filter = (prediction==0)&(y_test==1)\n",
    "    TP = len(prediction[TP_filter])\n",
    "    FP = len(prediction[FP_filter])\n",
    "    TN = len(prediction[TN_filter])\n",
    "    FN = len(prediction[FN_filter])\n",
    "    TPR = TP/float(TP+FN)\n",
    "    FPR = FP/float(FP+TN)\n",
    "    return (TPR,FPR)"
   ]
  },
  {
   "cell_type": "markdown",
   "metadata": {},
   "source": [
    "## MODEL 1 : Bacis Logistic Regression"
   ]
  },
  {
   "cell_type": "code",
   "execution_count": 17,
   "metadata": {},
   "outputs": [
    {
     "name": "stdout",
     "output_type": "stream",
     "text": [
      "(0.9859627329192546, 0.8968253968253969)\n"
     ]
    }
   ],
   "source": [
    "lr = LogisticRegression()\n",
    "lr.fit(X_train,y_train)\n",
    "lr_pred = lr.predict(X_test)\n",
    "print(TPR_FPR(lr_pred,y_test))"
   ]
  },
  {
   "cell_type": "code",
   "execution_count": 25,
   "metadata": {},
   "outputs": [
    {
     "name": "stdout",
     "output_type": "stream",
     "text": [
      "[0 1 1 1 1 1 1 1 1 1 1 1 1 1 1 1 1 1 1 1]\n"
     ]
    },
    {
     "data": {
      "text/plain": [
       "1    32448\n",
       "0     5295\n",
       "Name: loan_status, dtype: int64"
      ]
     },
     "execution_count": 25,
     "metadata": {},
     "output_type": "execute_result"
    }
   ],
   "source": [
    "print(lr_pred[:20]) \n",
    "y.value_counts()"
   ]
  },
  {
   "cell_type": "markdown",
   "metadata": {},
   "source": [
    "We can see that the value of FPR is too high because most of the results are directly predicted to be 1. The reason for holding a high TPR value is the imbalanced distribution of target results in the data provided"
   ]
  },
  {
   "cell_type": "markdown",
   "metadata": {},
   "source": [
    "## MODEL 2 : Logistic Regression with \"class_weight\" \n",
    "We use the \"class_weight\" parameter in the model to see if there is an improvement in the prediction results. We can also personalize the weight by defining a penalty dictionary."
   ]
  },
  {
   "cell_type": "code",
   "execution_count": 26,
   "metadata": {},
   "outputs": [
    {
     "name": "stderr",
     "output_type": "stream",
     "text": [
      "C:\\Users\\meiji\\AppData\\Roaming\\Python\\Python37\\site-packages\\sklearn\\linear_model\\_logistic.py:765: ConvergenceWarning: lbfgs failed to converge (status=1):\n",
      "STOP: TOTAL NO. of ITERATIONS REACHED LIMIT.\n",
      "\n",
      "Increase the number of iterations (max_iter) or scale the data as shown in:\n",
      "    https://scikit-learn.org/stable/modules/preprocessing.html\n",
      "Please also refer to the documentation for alternative solver options:\n",
      "    https://scikit-learn.org/stable/modules/linear_model.html#logistic-regression\n",
      "  extra_warning_msg=_LOGISTIC_SOLVER_CONVERGENCE_MSG)\n",
      "C:\\Users\\meiji\\AppData\\Roaming\\Python\\Python37\\site-packages\\sklearn\\linear_model\\_logistic.py:765: ConvergenceWarning: lbfgs failed to converge (status=1):\n",
      "STOP: TOTAL NO. of ITERATIONS REACHED LIMIT.\n",
      "\n",
      "Increase the number of iterations (max_iter) or scale the data as shown in:\n",
      "    https://scikit-learn.org/stable/modules/preprocessing.html\n",
      "Please also refer to the documentation for alternative solver options:\n",
      "    https://scikit-learn.org/stable/modules/linear_model.html#logistic-regression\n",
      "  extra_warning_msg=_LOGISTIC_SOLVER_CONVERGENCE_MSG)\n"
     ]
    },
    {
     "data": {
      "text/plain": [
       "(0.5811452169625246, 0.07875354107648726)"
      ]
     },
     "execution_count": 26,
     "metadata": {},
     "output_type": "execute_result"
    }
   ],
   "source": [
    "# personalize class_weight\n",
    "penalty = {\n",
    "    0:5, #weight of \"0\"↓： TPR↑，FPR↑\n",
    "    1:1\n",
    "}\n",
    "\n",
    "lr_weighted = LogisticRegression(class_weight=\"balanced\")   # class_weight=penalty\n",
    "lr_weighted_prediction = cross_val_predict(lr_weighted,X,y) # cv=KFold(...)\n",
    "TPR_FPR(lr_weighted_prediction,y) "
   ]
  },
  {
   "cell_type": "markdown",
   "metadata": {},
   "source": [
    "The FPR value decreases significantly, however, at the cost of a remarkable loss of TPR, which is clearly not what we expect."
   ]
  },
  {
   "cell_type": "markdown",
   "metadata": {},
   "source": [
    "## MODEL 3 : Ensemble Model with \"class_weight\" \n",
    "Let's change the model to see if it will be improved"
   ]
  },
  {
   "cell_type": "code",
   "execution_count": 27,
   "metadata": {},
   "outputs": [
    {
     "data": {
      "text/plain": [
       "(0.9611378205128205, 0.7493862134088763)"
      ]
     },
     "execution_count": 27,
     "metadata": {},
     "output_type": "execute_result"
    }
   ],
   "source": [
    "rf_weighted = RandomForestClassifier(n_estimators=10,class_weight=\"balanced\",random_state=1)\n",
    "rf_weighted_prediction = cross_val_predict(rf_weighted,X,y)\n",
    "TPR_FPR(rf_weighted_prediction,y)"
   ]
  },
  {
   "cell_type": "markdown",
   "metadata": {},
   "source": [
    "The results are still disappointing :<"
   ]
  },
  {
   "cell_type": "markdown",
   "metadata": {},
   "source": [
    "## MODEL 4 : OverSampling\n",
    "\n",
    "We consider improving the model results by improving the proportion of categories in the training data.\n",
    "\n",
    "Usually we have two methods, oversampling and undersampling:\n",
    "\n",
    "- **oversampling** : Increasing the number of samples in the category that has a smaller percentage in the original data. That is, creating new samples to improve the proportions. The commonly used algorithm is *SMOTE*\n",
    "- **undersampling** : Randomly remove a portion of the sample whose category is the one that is more dominant in the original data."
   ]
  },
  {
   "cell_type": "code",
   "execution_count": 29,
   "metadata": {},
   "outputs": [
    {
     "name": "stdout",
     "output_type": "stream",
     "text": [
      "1    0.861907\n",
      "0    0.138093\n",
      "Name: loan_status, dtype: float64\n",
      "1    0.5\n",
      "0    0.5\n",
      "Name: loan_status, dtype: float64\n",
      "(0.6417391304347826, 0.10317460317460317)\n"
     ]
    }
   ],
   "source": [
    "overSampling = SMOTE(random_state=1)\n",
    "X_train_oversamples, y_train_oversamples = overSampling.fit_resample(X_train,y_train)\n",
    "# Proportion of categories before resampling\n",
    "print(y_train.value_counts()/len(y_train))\n",
    "# Proportion of categories after resampling\n",
    "print(pd.Series(y_train_oversamples).value_counts()/len(y_train_oversamples))\n",
    "\n",
    "lr_os = LogisticRegression()\n",
    "lr_os.fit(X_train_oversamples,y_train_oversamples)\n",
    "lr_os_pred = lr_os.predict(X_test)\n",
    "print(TPR_FPR(lr_os_pred,y_test))"
   ]
  },
  {
   "cell_type": "markdown",
   "metadata": {},
   "source": [
    "It has been a very big improvement compared to the previous results. But we will continue to explore whether we can go further."
   ]
  },
  {
   "cell_type": "markdown",
   "metadata": {},
   "source": [
    "## MODEL 5 : OverSampling + CV"
   ]
  },
  {
   "cell_type": "code",
   "execution_count": 30,
   "metadata": {},
   "outputs": [
    {
     "name": "stderr",
     "output_type": "stream",
     "text": [
      "C:\\Users\\meiji\\AppData\\Roaming\\Python\\Python37\\site-packages\\sklearn\\linear_model\\_logistic.py:765: ConvergenceWarning: lbfgs failed to converge (status=1):\n",
      "STOP: TOTAL NO. of ITERATIONS REACHED LIMIT.\n",
      "\n",
      "Increase the number of iterations (max_iter) or scale the data as shown in:\n",
      "    https://scikit-learn.org/stable/modules/preprocessing.html\n",
      "Please also refer to the documentation for alternative solver options:\n",
      "    https://scikit-learn.org/stable/modules/linear_model.html#logistic-regression\n",
      "  extra_warning_msg=_LOGISTIC_SOLVER_CONVERGENCE_MSG)\n",
      "C:\\Users\\meiji\\AppData\\Roaming\\Python\\Python37\\site-packages\\sklearn\\linear_model\\_logistic.py:765: ConvergenceWarning: lbfgs failed to converge (status=1):\n",
      "STOP: TOTAL NO. of ITERATIONS REACHED LIMIT.\n",
      "\n",
      "Increase the number of iterations (max_iter) or scale the data as shown in:\n",
      "    https://scikit-learn.org/stable/modules/preprocessing.html\n",
      "Please also refer to the documentation for alternative solver options:\n",
      "    https://scikit-learn.org/stable/modules/linear_model.html#logistic-regression\n",
      "  extra_warning_msg=_LOGISTIC_SOLVER_CONVERGENCE_MSG)\n",
      "C:\\Users\\meiji\\AppData\\Roaming\\Python\\Python37\\site-packages\\sklearn\\linear_model\\_logistic.py:765: ConvergenceWarning: lbfgs failed to converge (status=1):\n",
      "STOP: TOTAL NO. of ITERATIONS REACHED LIMIT.\n",
      "\n",
      "Increase the number of iterations (max_iter) or scale the data as shown in:\n",
      "    https://scikit-learn.org/stable/modules/preprocessing.html\n",
      "Please also refer to the documentation for alternative solver options:\n",
      "    https://scikit-learn.org/stable/modules/linear_model.html#logistic-regression\n",
      "  extra_warning_msg=_LOGISTIC_SOLVER_CONVERGENCE_MSG)\n",
      "C:\\Users\\meiji\\AppData\\Roaming\\Python\\Python37\\site-packages\\sklearn\\linear_model\\_logistic.py:765: ConvergenceWarning: lbfgs failed to converge (status=1):\n",
      "STOP: TOTAL NO. of ITERATIONS REACHED LIMIT.\n",
      "\n",
      "Increase the number of iterations (max_iter) or scale the data as shown in:\n",
      "    https://scikit-learn.org/stable/modules/preprocessing.html\n",
      "Please also refer to the documentation for alternative solver options:\n",
      "    https://scikit-learn.org/stable/modules/linear_model.html#logistic-regression\n",
      "  extra_warning_msg=_LOGISTIC_SOLVER_CONVERGENCE_MSG)\n",
      "C:\\Users\\meiji\\AppData\\Roaming\\Python\\Python37\\site-packages\\sklearn\\linear_model\\_logistic.py:765: ConvergenceWarning: lbfgs failed to converge (status=1):\n",
      "STOP: TOTAL NO. of ITERATIONS REACHED LIMIT.\n",
      "\n",
      "Increase the number of iterations (max_iter) or scale the data as shown in:\n",
      "    https://scikit-learn.org/stable/modules/preprocessing.html\n",
      "Please also refer to the documentation for alternative solver options:\n",
      "    https://scikit-learn.org/stable/modules/linear_model.html#logistic-regression\n",
      "  extra_warning_msg=_LOGISTIC_SOLVER_CONVERGENCE_MSG)\n"
     ]
    },
    {
     "data": {
      "text/plain": [
       "(0.6120562130177515, 0.07202292899408284)"
      ]
     },
     "execution_count": 30,
     "metadata": {},
     "output_type": "execute_result"
    }
   ],
   "source": [
    "X_oversamples, y_oversamples = overSampling.fit_resample(X,y)\n",
    "lr_os_cv = LogisticRegression()\n",
    "lr_os_cv_prediction = cross_val_predict(lr_os_cv,X_oversamples,y_oversamples) # cv=KFold(...)\n",
    "TPR_FPR(lr_os_cv_prediction,y_oversamples) "
   ]
  },
  {
   "cell_type": "code",
   "execution_count": null,
   "metadata": {},
   "outputs": [],
   "source": []
  }
 ],
 "metadata": {
  "kernelspec": {
   "display_name": "Python 3",
   "language": "python",
   "name": "python3"
  },
  "language_info": {
   "codemirror_mode": {
    "name": "ipython",
    "version": 3
   },
   "file_extension": ".py",
   "mimetype": "text/x-python",
   "name": "python",
   "nbconvert_exporter": "python",
   "pygments_lexer": "ipython3",
   "version": "3.7.6"
  }
 },
 "nbformat": 4,
 "nbformat_minor": 4
}
